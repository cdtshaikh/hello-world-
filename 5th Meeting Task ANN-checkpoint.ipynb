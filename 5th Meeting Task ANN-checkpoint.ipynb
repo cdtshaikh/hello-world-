{
 "cells": [
  {
   "cell_type": "code",
   "execution_count": 1,
   "metadata": {
    "collapsed": true
   },
   "outputs": [],
   "source": [
    "%matplotlib inline\n",
    "import numpy as np\n",
    "import matplotlib.pyplot as plt\n",
    "import pandas as pd\n",
    "import os"
   ]
  },
  {
   "cell_type": "code",
   "execution_count": 2,
   "metadata": {
    "collapsed": true
   },
   "outputs": [],
   "source": [
    "dataset = pd.read_csv('Churn_Modeling.csv')\n",
    "X = dataset.iloc[:, 3:13].values\n",
    "y = dataset.iloc[:,13].values"
   ]
  },
  {
   "cell_type": "code",
   "execution_count": 3,
   "metadata": {
    "collapsed": true
   },
   "outputs": [],
   "source": [
    "classes = list(y)\n",
    "for index, item in enumerate(classes):\n",
    "    if (item == 0):\n",
    "        classes[index] = 'No'\n",
    "    else:\n",
    "        classes[index] = 'Yes'"
   ]
  },
  {
   "cell_type": "code",
   "execution_count": 4,
   "metadata": {
    "scrolled": true
   },
   "outputs": [
    {
     "data": {
      "text/html": [
       "<div>\n",
       "<style>\n",
       "    .dataframe thead tr:only-child th {\n",
       "        text-align: right;\n",
       "    }\n",
       "\n",
       "    .dataframe thead th {\n",
       "        text-align: left;\n",
       "    }\n",
       "\n",
       "    .dataframe tbody tr th {\n",
       "        vertical-align: top;\n",
       "    }\n",
       "</style>\n",
       "<table border=\"1\" class=\"dataframe\">\n",
       "  <thead>\n",
       "    <tr style=\"text-align: right;\">\n",
       "      <th></th>\n",
       "      <th>RowNumber</th>\n",
       "      <th>CustomerId</th>\n",
       "      <th>Surname</th>\n",
       "      <th>CreditScore</th>\n",
       "      <th>Geography</th>\n",
       "      <th>Gender</th>\n",
       "      <th>Age</th>\n",
       "      <th>Tenure</th>\n",
       "      <th>Balance</th>\n",
       "      <th>NumOfProducts</th>\n",
       "      <th>HasCrCard</th>\n",
       "      <th>IsActiveMember</th>\n",
       "      <th>EstimatedSalary</th>\n",
       "      <th>Exited</th>\n",
       "    </tr>\n",
       "  </thead>\n",
       "  <tbody>\n",
       "    <tr>\n",
       "      <th>0</th>\n",
       "      <td>1</td>\n",
       "      <td>15634602</td>\n",
       "      <td>Hargrave</td>\n",
       "      <td>619</td>\n",
       "      <td>France</td>\n",
       "      <td>Female</td>\n",
       "      <td>42</td>\n",
       "      <td>2</td>\n",
       "      <td>0.00</td>\n",
       "      <td>1</td>\n",
       "      <td>1</td>\n",
       "      <td>1</td>\n",
       "      <td>101348.88</td>\n",
       "      <td>1</td>\n",
       "    </tr>\n",
       "    <tr>\n",
       "      <th>1</th>\n",
       "      <td>2</td>\n",
       "      <td>15647311</td>\n",
       "      <td>Hill</td>\n",
       "      <td>608</td>\n",
       "      <td>Spain</td>\n",
       "      <td>Female</td>\n",
       "      <td>41</td>\n",
       "      <td>1</td>\n",
       "      <td>83807.86</td>\n",
       "      <td>1</td>\n",
       "      <td>0</td>\n",
       "      <td>1</td>\n",
       "      <td>112542.58</td>\n",
       "      <td>0</td>\n",
       "    </tr>\n",
       "    <tr>\n",
       "      <th>2</th>\n",
       "      <td>3</td>\n",
       "      <td>15619304</td>\n",
       "      <td>Onio</td>\n",
       "      <td>502</td>\n",
       "      <td>France</td>\n",
       "      <td>Female</td>\n",
       "      <td>42</td>\n",
       "      <td>8</td>\n",
       "      <td>159660.80</td>\n",
       "      <td>3</td>\n",
       "      <td>1</td>\n",
       "      <td>0</td>\n",
       "      <td>113931.57</td>\n",
       "      <td>1</td>\n",
       "    </tr>\n",
       "    <tr>\n",
       "      <th>3</th>\n",
       "      <td>4</td>\n",
       "      <td>15701354</td>\n",
       "      <td>Boni</td>\n",
       "      <td>699</td>\n",
       "      <td>France</td>\n",
       "      <td>Female</td>\n",
       "      <td>39</td>\n",
       "      <td>1</td>\n",
       "      <td>0.00</td>\n",
       "      <td>2</td>\n",
       "      <td>0</td>\n",
       "      <td>0</td>\n",
       "      <td>93826.63</td>\n",
       "      <td>0</td>\n",
       "    </tr>\n",
       "    <tr>\n",
       "      <th>4</th>\n",
       "      <td>5</td>\n",
       "      <td>15737888</td>\n",
       "      <td>Mitchell</td>\n",
       "      <td>850</td>\n",
       "      <td>Spain</td>\n",
       "      <td>Female</td>\n",
       "      <td>43</td>\n",
       "      <td>2</td>\n",
       "      <td>125510.82</td>\n",
       "      <td>1</td>\n",
       "      <td>1</td>\n",
       "      <td>1</td>\n",
       "      <td>79084.10</td>\n",
       "      <td>0</td>\n",
       "    </tr>\n",
       "  </tbody>\n",
       "</table>\n",
       "</div>"
      ],
      "text/plain": [
       "   RowNumber  CustomerId   Surname  CreditScore Geography  Gender  Age  \\\n",
       "0          1    15634602  Hargrave          619    France  Female   42   \n",
       "1          2    15647311      Hill          608     Spain  Female   41   \n",
       "2          3    15619304      Onio          502    France  Female   42   \n",
       "3          4    15701354      Boni          699    France  Female   39   \n",
       "4          5    15737888  Mitchell          850     Spain  Female   43   \n",
       "\n",
       "   Tenure    Balance  NumOfProducts  HasCrCard  IsActiveMember  \\\n",
       "0       2       0.00              1          1               1   \n",
       "1       1   83807.86              1          0               1   \n",
       "2       8  159660.80              3          1               0   \n",
       "3       1       0.00              2          0               0   \n",
       "4       2  125510.82              1          1               1   \n",
       "\n",
       "   EstimatedSalary  Exited  \n",
       "0        101348.88       1  \n",
       "1        112542.58       0  \n",
       "2        113931.57       1  \n",
       "3         93826.63       0  \n",
       "4         79084.10       0  "
      ]
     },
     "execution_count": 4,
     "metadata": {},
     "output_type": "execute_result"
    }
   ],
   "source": [
    "dataset.head()"
   ]
  },
  {
   "cell_type": "code",
   "execution_count": 5,
   "metadata": {},
   "outputs": [
    {
     "data": {
      "text/html": [
       "<div>\n",
       "<style>\n",
       "    .dataframe thead tr:only-child th {\n",
       "        text-align: right;\n",
       "    }\n",
       "\n",
       "    .dataframe thead th {\n",
       "        text-align: left;\n",
       "    }\n",
       "\n",
       "    .dataframe tbody tr th {\n",
       "        vertical-align: top;\n",
       "    }\n",
       "</style>\n",
       "<table border=\"1\" class=\"dataframe\">\n",
       "  <thead>\n",
       "    <tr style=\"text-align: right;\">\n",
       "      <th></th>\n",
       "      <th>RowNumber</th>\n",
       "      <th>CustomerId</th>\n",
       "      <th>Surname</th>\n",
       "      <th>CreditScore</th>\n",
       "      <th>Geography</th>\n",
       "      <th>Gender</th>\n",
       "      <th>Age</th>\n",
       "      <th>Tenure</th>\n",
       "      <th>Balance</th>\n",
       "      <th>NumOfProducts</th>\n",
       "      <th>HasCrCard</th>\n",
       "      <th>IsActiveMember</th>\n",
       "      <th>EstimatedSalary</th>\n",
       "      <th>Exited</th>\n",
       "    </tr>\n",
       "  </thead>\n",
       "  <tbody>\n",
       "    <tr>\n",
       "      <th>9995</th>\n",
       "      <td>9996</td>\n",
       "      <td>15606229</td>\n",
       "      <td>Obijiaku</td>\n",
       "      <td>771</td>\n",
       "      <td>France</td>\n",
       "      <td>Male</td>\n",
       "      <td>39</td>\n",
       "      <td>5</td>\n",
       "      <td>0.00</td>\n",
       "      <td>2</td>\n",
       "      <td>1</td>\n",
       "      <td>0</td>\n",
       "      <td>96270.64</td>\n",
       "      <td>0</td>\n",
       "    </tr>\n",
       "    <tr>\n",
       "      <th>9996</th>\n",
       "      <td>9997</td>\n",
       "      <td>15569892</td>\n",
       "      <td>Johnstone</td>\n",
       "      <td>516</td>\n",
       "      <td>France</td>\n",
       "      <td>Male</td>\n",
       "      <td>35</td>\n",
       "      <td>10</td>\n",
       "      <td>57369.61</td>\n",
       "      <td>1</td>\n",
       "      <td>1</td>\n",
       "      <td>1</td>\n",
       "      <td>101699.77</td>\n",
       "      <td>0</td>\n",
       "    </tr>\n",
       "    <tr>\n",
       "      <th>9997</th>\n",
       "      <td>9998</td>\n",
       "      <td>15584532</td>\n",
       "      <td>Liu</td>\n",
       "      <td>709</td>\n",
       "      <td>France</td>\n",
       "      <td>Female</td>\n",
       "      <td>36</td>\n",
       "      <td>7</td>\n",
       "      <td>0.00</td>\n",
       "      <td>1</td>\n",
       "      <td>0</td>\n",
       "      <td>1</td>\n",
       "      <td>42085.58</td>\n",
       "      <td>1</td>\n",
       "    </tr>\n",
       "    <tr>\n",
       "      <th>9998</th>\n",
       "      <td>9999</td>\n",
       "      <td>15682355</td>\n",
       "      <td>Sabbatini</td>\n",
       "      <td>772</td>\n",
       "      <td>Germany</td>\n",
       "      <td>Male</td>\n",
       "      <td>42</td>\n",
       "      <td>3</td>\n",
       "      <td>75075.31</td>\n",
       "      <td>2</td>\n",
       "      <td>1</td>\n",
       "      <td>0</td>\n",
       "      <td>92888.52</td>\n",
       "      <td>1</td>\n",
       "    </tr>\n",
       "    <tr>\n",
       "      <th>9999</th>\n",
       "      <td>10000</td>\n",
       "      <td>15628319</td>\n",
       "      <td>Walker</td>\n",
       "      <td>792</td>\n",
       "      <td>France</td>\n",
       "      <td>Female</td>\n",
       "      <td>28</td>\n",
       "      <td>4</td>\n",
       "      <td>130142.79</td>\n",
       "      <td>1</td>\n",
       "      <td>1</td>\n",
       "      <td>0</td>\n",
       "      <td>38190.78</td>\n",
       "      <td>0</td>\n",
       "    </tr>\n",
       "  </tbody>\n",
       "</table>\n",
       "</div>"
      ],
      "text/plain": [
       "      RowNumber  CustomerId    Surname  CreditScore Geography  Gender  Age  \\\n",
       "9995       9996    15606229   Obijiaku          771    France    Male   39   \n",
       "9996       9997    15569892  Johnstone          516    France    Male   35   \n",
       "9997       9998    15584532        Liu          709    France  Female   36   \n",
       "9998       9999    15682355  Sabbatini          772   Germany    Male   42   \n",
       "9999      10000    15628319     Walker          792    France  Female   28   \n",
       "\n",
       "      Tenure    Balance  NumOfProducts  HasCrCard  IsActiveMember  \\\n",
       "9995       5       0.00              2          1               0   \n",
       "9996      10   57369.61              1          1               1   \n",
       "9997       7       0.00              1          0               1   \n",
       "9998       3   75075.31              2          1               0   \n",
       "9999       4  130142.79              1          1               0   \n",
       "\n",
       "      EstimatedSalary  Exited  \n",
       "9995         96270.64       0  \n",
       "9996        101699.77       0  \n",
       "9997         42085.58       1  \n",
       "9998         92888.52       1  \n",
       "9999         38190.78       0  "
      ]
     },
     "execution_count": 5,
     "metadata": {},
     "output_type": "execute_result"
    }
   ],
   "source": [
    "dataset.tail()"
   ]
  },
  {
   "cell_type": "code",
   "execution_count": 6,
   "metadata": {},
   "outputs": [
    {
     "data": {
      "text/plain": [
       "(10000, 14)"
      ]
     },
     "execution_count": 6,
     "metadata": {},
     "output_type": "execute_result"
    }
   ],
   "source": [
    "dataset.shape"
   ]
  },
  {
   "cell_type": "code",
   "execution_count": 7,
   "metadata": {},
   "outputs": [
    {
     "data": {
      "text/plain": [
       "array(['France', 'Spain', 'France', ..., 'France', 'Germany', 'France'],\n",
       "      dtype=object)"
      ]
     },
     "execution_count": 7,
     "metadata": {},
     "output_type": "execute_result"
    }
   ],
   "source": [
    "X[:,1]"
   ]
  },
  {
   "cell_type": "code",
   "execution_count": 8,
   "metadata": {},
   "outputs": [
    {
     "data": {
      "text/plain": [
       "array(['Female', 'Female', 'Female', ..., 'Female', 'Male', 'Female'],\n",
       "      dtype=object)"
      ]
     },
     "execution_count": 8,
     "metadata": {},
     "output_type": "execute_result"
    }
   ],
   "source": [
    "X[:,2]"
   ]
  },
  {
   "cell_type": "code",
   "execution_count": 9,
   "metadata": {
    "collapsed": true
   },
   "outputs": [],
   "source": [
    "from sklearn.preprocessing import LabelEncoder, OneHotEncoder \n",
    "labelencoder_X_1 = LabelEncoder()\n",
    "X[:,1] = labelencoder_X_1.fit_transform(X[:,1])\n",
    "labelencoder_X_2 = LabelEncoder()\n",
    "X[:,2] = labelencoder_X_2.fit_transform(X[:,2]) "
   ]
  },
  {
   "cell_type": "code",
   "execution_count": 10,
   "metadata": {},
   "outputs": [
    {
     "data": {
      "text/plain": [
       "array([0, 2, 0, ..., 0, 1, 0], dtype=object)"
      ]
     },
     "execution_count": 10,
     "metadata": {},
     "output_type": "execute_result"
    }
   ],
   "source": [
    "X[:,1]"
   ]
  },
  {
   "cell_type": "code",
   "execution_count": 11,
   "metadata": {},
   "outputs": [
    {
     "data": {
      "text/plain": [
       "array([0, 0, 0, ..., 0, 1, 0], dtype=object)"
      ]
     },
     "execution_count": 11,
     "metadata": {},
     "output_type": "execute_result"
    }
   ],
   "source": [
    "X[:,2]"
   ]
  },
  {
   "cell_type": "code",
   "execution_count": 12,
   "metadata": {},
   "outputs": [
    {
     "data": {
      "text/html": [
       "<div>\n",
       "<style>\n",
       "    .dataframe thead tr:only-child th {\n",
       "        text-align: right;\n",
       "    }\n",
       "\n",
       "    .dataframe thead th {\n",
       "        text-align: left;\n",
       "    }\n",
       "\n",
       "    .dataframe tbody tr th {\n",
       "        vertical-align: top;\n",
       "    }\n",
       "</style>\n",
       "<table border=\"1\" class=\"dataframe\">\n",
       "  <thead>\n",
       "    <tr style=\"text-align: right;\">\n",
       "      <th></th>\n",
       "      <th>0</th>\n",
       "      <th>1</th>\n",
       "      <th>2</th>\n",
       "      <th>3</th>\n",
       "      <th>4</th>\n",
       "      <th>5</th>\n",
       "      <th>6</th>\n",
       "      <th>7</th>\n",
       "      <th>8</th>\n",
       "      <th>9</th>\n",
       "    </tr>\n",
       "  </thead>\n",
       "  <tbody>\n",
       "    <tr>\n",
       "      <th>0</th>\n",
       "      <td>619</td>\n",
       "      <td>0</td>\n",
       "      <td>0</td>\n",
       "      <td>42</td>\n",
       "      <td>2</td>\n",
       "      <td>0</td>\n",
       "      <td>1</td>\n",
       "      <td>1</td>\n",
       "      <td>1</td>\n",
       "      <td>101349</td>\n",
       "    </tr>\n",
       "    <tr>\n",
       "      <th>1</th>\n",
       "      <td>608</td>\n",
       "      <td>2</td>\n",
       "      <td>0</td>\n",
       "      <td>41</td>\n",
       "      <td>1</td>\n",
       "      <td>83807.9</td>\n",
       "      <td>1</td>\n",
       "      <td>0</td>\n",
       "      <td>1</td>\n",
       "      <td>112543</td>\n",
       "    </tr>\n",
       "    <tr>\n",
       "      <th>2</th>\n",
       "      <td>502</td>\n",
       "      <td>0</td>\n",
       "      <td>0</td>\n",
       "      <td>42</td>\n",
       "      <td>8</td>\n",
       "      <td>159661</td>\n",
       "      <td>3</td>\n",
       "      <td>1</td>\n",
       "      <td>0</td>\n",
       "      <td>113932</td>\n",
       "    </tr>\n",
       "    <tr>\n",
       "      <th>3</th>\n",
       "      <td>699</td>\n",
       "      <td>0</td>\n",
       "      <td>0</td>\n",
       "      <td>39</td>\n",
       "      <td>1</td>\n",
       "      <td>0</td>\n",
       "      <td>2</td>\n",
       "      <td>0</td>\n",
       "      <td>0</td>\n",
       "      <td>93826.6</td>\n",
       "    </tr>\n",
       "    <tr>\n",
       "      <th>4</th>\n",
       "      <td>850</td>\n",
       "      <td>2</td>\n",
       "      <td>0</td>\n",
       "      <td>43</td>\n",
       "      <td>2</td>\n",
       "      <td>125511</td>\n",
       "      <td>1</td>\n",
       "      <td>1</td>\n",
       "      <td>1</td>\n",
       "      <td>79084.1</td>\n",
       "    </tr>\n",
       "  </tbody>\n",
       "</table>\n",
       "</div>"
      ],
      "text/plain": [
       "     0  1  2   3  4        5  6  7  8        9\n",
       "0  619  0  0  42  2        0  1  1  1   101349\n",
       "1  608  2  0  41  1  83807.9  1  0  1   112543\n",
       "2  502  0  0  42  8   159661  3  1  0   113932\n",
       "3  699  0  0  39  1        0  2  0  0  93826.6\n",
       "4  850  2  0  43  2   125511  1  1  1  79084.1"
      ]
     },
     "execution_count": 12,
     "metadata": {},
     "output_type": "execute_result"
    }
   ],
   "source": [
    "pd.DataFrame(X).head()"
   ]
  },
  {
   "cell_type": "code",
   "execution_count": 13,
   "metadata": {
    "collapsed": true
   },
   "outputs": [],
   "source": [
    "onehotencoder = OneHotEncoder(categorical_features=[1])\n",
    "X = onehotencoder.fit_transform(X).toarray()"
   ]
  },
  {
   "cell_type": "code",
   "execution_count": 14,
   "metadata": {},
   "outputs": [
    {
     "data": {
      "text/html": [
       "<div>\n",
       "<style>\n",
       "    .dataframe thead tr:only-child th {\n",
       "        text-align: right;\n",
       "    }\n",
       "\n",
       "    .dataframe thead th {\n",
       "        text-align: left;\n",
       "    }\n",
       "\n",
       "    .dataframe tbody tr th {\n",
       "        vertical-align: top;\n",
       "    }\n",
       "</style>\n",
       "<table border=\"1\" class=\"dataframe\">\n",
       "  <thead>\n",
       "    <tr style=\"text-align: right;\">\n",
       "      <th></th>\n",
       "      <th>0</th>\n",
       "      <th>1</th>\n",
       "      <th>2</th>\n",
       "      <th>3</th>\n",
       "      <th>4</th>\n",
       "      <th>5</th>\n",
       "      <th>6</th>\n",
       "      <th>7</th>\n",
       "      <th>8</th>\n",
       "      <th>9</th>\n",
       "      <th>10</th>\n",
       "      <th>11</th>\n",
       "    </tr>\n",
       "  </thead>\n",
       "  <tbody>\n",
       "    <tr>\n",
       "      <th>0</th>\n",
       "      <td>1.0</td>\n",
       "      <td>0.0</td>\n",
       "      <td>0.0</td>\n",
       "      <td>619.0</td>\n",
       "      <td>0.0</td>\n",
       "      <td>42.0</td>\n",
       "      <td>2.0</td>\n",
       "      <td>0.00</td>\n",
       "      <td>1.0</td>\n",
       "      <td>1.0</td>\n",
       "      <td>1.0</td>\n",
       "      <td>101348.88</td>\n",
       "    </tr>\n",
       "    <tr>\n",
       "      <th>1</th>\n",
       "      <td>0.0</td>\n",
       "      <td>0.0</td>\n",
       "      <td>1.0</td>\n",
       "      <td>608.0</td>\n",
       "      <td>0.0</td>\n",
       "      <td>41.0</td>\n",
       "      <td>1.0</td>\n",
       "      <td>83807.86</td>\n",
       "      <td>1.0</td>\n",
       "      <td>0.0</td>\n",
       "      <td>1.0</td>\n",
       "      <td>112542.58</td>\n",
       "    </tr>\n",
       "    <tr>\n",
       "      <th>2</th>\n",
       "      <td>1.0</td>\n",
       "      <td>0.0</td>\n",
       "      <td>0.0</td>\n",
       "      <td>502.0</td>\n",
       "      <td>0.0</td>\n",
       "      <td>42.0</td>\n",
       "      <td>8.0</td>\n",
       "      <td>159660.80</td>\n",
       "      <td>3.0</td>\n",
       "      <td>1.0</td>\n",
       "      <td>0.0</td>\n",
       "      <td>113931.57</td>\n",
       "    </tr>\n",
       "    <tr>\n",
       "      <th>3</th>\n",
       "      <td>1.0</td>\n",
       "      <td>0.0</td>\n",
       "      <td>0.0</td>\n",
       "      <td>699.0</td>\n",
       "      <td>0.0</td>\n",
       "      <td>39.0</td>\n",
       "      <td>1.0</td>\n",
       "      <td>0.00</td>\n",
       "      <td>2.0</td>\n",
       "      <td>0.0</td>\n",
       "      <td>0.0</td>\n",
       "      <td>93826.63</td>\n",
       "    </tr>\n",
       "    <tr>\n",
       "      <th>4</th>\n",
       "      <td>0.0</td>\n",
       "      <td>0.0</td>\n",
       "      <td>1.0</td>\n",
       "      <td>850.0</td>\n",
       "      <td>0.0</td>\n",
       "      <td>43.0</td>\n",
       "      <td>2.0</td>\n",
       "      <td>125510.82</td>\n",
       "      <td>1.0</td>\n",
       "      <td>1.0</td>\n",
       "      <td>1.0</td>\n",
       "      <td>79084.10</td>\n",
       "    </tr>\n",
       "  </tbody>\n",
       "</table>\n",
       "</div>"
      ],
      "text/plain": [
       "    0    1    2      3    4     5    6          7    8    9    10         11\n",
       "0  1.0  0.0  0.0  619.0  0.0  42.0  2.0       0.00  1.0  1.0  1.0  101348.88\n",
       "1  0.0  0.0  1.0  608.0  0.0  41.0  1.0   83807.86  1.0  0.0  1.0  112542.58\n",
       "2  1.0  0.0  0.0  502.0  0.0  42.0  8.0  159660.80  3.0  1.0  0.0  113931.57\n",
       "3  1.0  0.0  0.0  699.0  0.0  39.0  1.0       0.00  2.0  0.0  0.0   93826.63\n",
       "4  0.0  0.0  1.0  850.0  0.0  43.0  2.0  125510.82  1.0  1.0  1.0   79084.10"
      ]
     },
     "execution_count": 14,
     "metadata": {},
     "output_type": "execute_result"
    }
   ],
   "source": [
    "pd.DataFrame(X).head()"
   ]
  },
  {
   "cell_type": "code",
   "execution_count": 15,
   "metadata": {},
   "outputs": [
    {
     "data": {
      "text/plain": [
       "(10000, 12)"
      ]
     },
     "execution_count": 15,
     "metadata": {},
     "output_type": "execute_result"
    }
   ],
   "source": [
    "X.shape "
   ]
  },
  {
   "cell_type": "code",
   "execution_count": 16,
   "metadata": {
    "collapsed": true
   },
   "outputs": [],
   "source": [
    "X = X[:, 1:]"
   ]
  },
  {
   "cell_type": "code",
   "execution_count": 17,
   "metadata": {},
   "outputs": [
    {
     "data": {
      "text/plain": [
       "(10000, 11)"
      ]
     },
     "execution_count": 17,
     "metadata": {},
     "output_type": "execute_result"
    }
   ],
   "source": [
    "X.shape"
   ]
  },
  {
   "cell_type": "code",
   "execution_count": 18,
   "metadata": {
    "collapsed": true
   },
   "outputs": [],
   "source": [
    "from sklearn.model_selection import train_test_split\n",
    "X_train, X_test, y_train, y_test = train_test_split(X, y, test_size = 0.2, random_state = 0)"
   ]
  },
  {
   "cell_type": "code",
   "execution_count": 19,
   "metadata": {},
   "outputs": [
    {
     "data": {
      "text/plain": [
       "[(8000, 11), (8000,), (2000, 11), (2000,)]"
      ]
     },
     "execution_count": 19,
     "metadata": {},
     "output_type": "execute_result"
    }
   ],
   "source": [
    "[X_train.shape, y_train.shape, X_test.shape, y_test.shape]"
   ]
  },
  {
   "cell_type": "code",
   "execution_count": 20,
   "metadata": {},
   "outputs": [
    {
     "data": {
      "text/html": [
       "<div>\n",
       "<style>\n",
       "    .dataframe thead tr:only-child th {\n",
       "        text-align: right;\n",
       "    }\n",
       "\n",
       "    .dataframe thead th {\n",
       "        text-align: left;\n",
       "    }\n",
       "\n",
       "    .dataframe tbody tr th {\n",
       "        vertical-align: top;\n",
       "    }\n",
       "</style>\n",
       "<table border=\"1\" class=\"dataframe\">\n",
       "  <thead>\n",
       "    <tr style=\"text-align: right;\">\n",
       "      <th></th>\n",
       "      <th>0</th>\n",
       "      <th>1</th>\n",
       "      <th>2</th>\n",
       "      <th>3</th>\n",
       "      <th>4</th>\n",
       "      <th>5</th>\n",
       "      <th>6</th>\n",
       "      <th>7</th>\n",
       "      <th>8</th>\n",
       "      <th>9</th>\n",
       "      <th>10</th>\n",
       "    </tr>\n",
       "  </thead>\n",
       "  <tbody>\n",
       "    <tr>\n",
       "      <th>0</th>\n",
       "      <td>0.0</td>\n",
       "      <td>1.0</td>\n",
       "      <td>667.0</td>\n",
       "      <td>0.0</td>\n",
       "      <td>34.0</td>\n",
       "      <td>5.0</td>\n",
       "      <td>0.00</td>\n",
       "      <td>2.0</td>\n",
       "      <td>1.0</td>\n",
       "      <td>0.0</td>\n",
       "      <td>163830.64</td>\n",
       "    </tr>\n",
       "    <tr>\n",
       "      <th>1</th>\n",
       "      <td>1.0</td>\n",
       "      <td>0.0</td>\n",
       "      <td>427.0</td>\n",
       "      <td>1.0</td>\n",
       "      <td>42.0</td>\n",
       "      <td>1.0</td>\n",
       "      <td>75681.52</td>\n",
       "      <td>1.0</td>\n",
       "      <td>1.0</td>\n",
       "      <td>1.0</td>\n",
       "      <td>57098.00</td>\n",
       "    </tr>\n",
       "    <tr>\n",
       "      <th>2</th>\n",
       "      <td>0.0</td>\n",
       "      <td>0.0</td>\n",
       "      <td>535.0</td>\n",
       "      <td>0.0</td>\n",
       "      <td>29.0</td>\n",
       "      <td>2.0</td>\n",
       "      <td>112367.34</td>\n",
       "      <td>1.0</td>\n",
       "      <td>1.0</td>\n",
       "      <td>0.0</td>\n",
       "      <td>185630.76</td>\n",
       "    </tr>\n",
       "    <tr>\n",
       "      <th>3</th>\n",
       "      <td>0.0</td>\n",
       "      <td>1.0</td>\n",
       "      <td>654.0</td>\n",
       "      <td>1.0</td>\n",
       "      <td>40.0</td>\n",
       "      <td>5.0</td>\n",
       "      <td>105683.63</td>\n",
       "      <td>1.0</td>\n",
       "      <td>1.0</td>\n",
       "      <td>0.0</td>\n",
       "      <td>173617.09</td>\n",
       "    </tr>\n",
       "    <tr>\n",
       "      <th>4</th>\n",
       "      <td>0.0</td>\n",
       "      <td>1.0</td>\n",
       "      <td>850.0</td>\n",
       "      <td>0.0</td>\n",
       "      <td>57.0</td>\n",
       "      <td>8.0</td>\n",
       "      <td>126776.30</td>\n",
       "      <td>2.0</td>\n",
       "      <td>1.0</td>\n",
       "      <td>1.0</td>\n",
       "      <td>132298.49</td>\n",
       "    </tr>\n",
       "  </tbody>\n",
       "</table>\n",
       "</div>"
      ],
      "text/plain": [
       "    0    1      2    3     4    5          6    7    8    9          10\n",
       "0  0.0  1.0  667.0  0.0  34.0  5.0       0.00  2.0  1.0  0.0  163830.64\n",
       "1  1.0  0.0  427.0  1.0  42.0  1.0   75681.52  1.0  1.0  1.0   57098.00\n",
       "2  0.0  0.0  535.0  0.0  29.0  2.0  112367.34  1.0  1.0  0.0  185630.76\n",
       "3  0.0  1.0  654.0  1.0  40.0  5.0  105683.63  1.0  1.0  0.0  173617.09\n",
       "4  0.0  1.0  850.0  0.0  57.0  8.0  126776.30  2.0  1.0  1.0  132298.49"
      ]
     },
     "execution_count": 20,
     "metadata": {},
     "output_type": "execute_result"
    }
   ],
   "source": [
    "pd.DataFrame(X_train).head()"
   ]
  },
  {
   "cell_type": "code",
   "execution_count": 21,
   "metadata": {
    "collapsed": true
   },
   "outputs": [],
   "source": [
    "from sklearn.preprocessing import StandardScaler\n",
    "sc = StandardScaler()\n",
    "X_train = sc.fit_transform(X_train)\n",
    "X_test = sc.transform(X_test)"
   ]
  },
  {
   "cell_type": "code",
   "execution_count": 22,
   "metadata": {},
   "outputs": [
    {
     "data": {
      "text/html": [
       "<div>\n",
       "<style>\n",
       "    .dataframe thead tr:only-child th {\n",
       "        text-align: right;\n",
       "    }\n",
       "\n",
       "    .dataframe thead th {\n",
       "        text-align: left;\n",
       "    }\n",
       "\n",
       "    .dataframe tbody tr th {\n",
       "        vertical-align: top;\n",
       "    }\n",
       "</style>\n",
       "<table border=\"1\" class=\"dataframe\">\n",
       "  <thead>\n",
       "    <tr style=\"text-align: right;\">\n",
       "      <th></th>\n",
       "      <th>0</th>\n",
       "      <th>1</th>\n",
       "      <th>2</th>\n",
       "      <th>3</th>\n",
       "      <th>4</th>\n",
       "      <th>5</th>\n",
       "      <th>6</th>\n",
       "      <th>7</th>\n",
       "      <th>8</th>\n",
       "      <th>9</th>\n",
       "      <th>10</th>\n",
       "    </tr>\n",
       "  </thead>\n",
       "  <tbody>\n",
       "    <tr>\n",
       "      <th>0</th>\n",
       "      <td>-0.569844</td>\n",
       "      <td>1.743090</td>\n",
       "      <td>0.169582</td>\n",
       "      <td>-1.091687</td>\n",
       "      <td>-0.464608</td>\n",
       "      <td>0.006661</td>\n",
       "      <td>-1.215717</td>\n",
       "      <td>0.809503</td>\n",
       "      <td>0.642595</td>\n",
       "      <td>-1.032270</td>\n",
       "      <td>1.106432</td>\n",
       "    </tr>\n",
       "    <tr>\n",
       "      <th>1</th>\n",
       "      <td>1.754865</td>\n",
       "      <td>-0.573694</td>\n",
       "      <td>-2.304559</td>\n",
       "      <td>0.916013</td>\n",
       "      <td>0.301026</td>\n",
       "      <td>-1.377440</td>\n",
       "      <td>-0.006312</td>\n",
       "      <td>-0.921591</td>\n",
       "      <td>0.642595</td>\n",
       "      <td>0.968738</td>\n",
       "      <td>-0.748664</td>\n",
       "    </tr>\n",
       "    <tr>\n",
       "      <th>2</th>\n",
       "      <td>-0.569844</td>\n",
       "      <td>-0.573694</td>\n",
       "      <td>-1.191196</td>\n",
       "      <td>-1.091687</td>\n",
       "      <td>-0.943129</td>\n",
       "      <td>-1.031415</td>\n",
       "      <td>0.579935</td>\n",
       "      <td>-0.921591</td>\n",
       "      <td>0.642595</td>\n",
       "      <td>-1.032270</td>\n",
       "      <td>1.485335</td>\n",
       "    </tr>\n",
       "    <tr>\n",
       "      <th>3</th>\n",
       "      <td>-0.569844</td>\n",
       "      <td>1.743090</td>\n",
       "      <td>0.035566</td>\n",
       "      <td>0.916013</td>\n",
       "      <td>0.109617</td>\n",
       "      <td>0.006661</td>\n",
       "      <td>0.473128</td>\n",
       "      <td>-0.921591</td>\n",
       "      <td>0.642595</td>\n",
       "      <td>-1.032270</td>\n",
       "      <td>1.276528</td>\n",
       "    </tr>\n",
       "    <tr>\n",
       "      <th>4</th>\n",
       "      <td>-0.569844</td>\n",
       "      <td>1.743090</td>\n",
       "      <td>2.056114</td>\n",
       "      <td>-1.091687</td>\n",
       "      <td>1.736588</td>\n",
       "      <td>1.044737</td>\n",
       "      <td>0.810193</td>\n",
       "      <td>0.809503</td>\n",
       "      <td>0.642595</td>\n",
       "      <td>0.968738</td>\n",
       "      <td>0.558378</td>\n",
       "    </tr>\n",
       "  </tbody>\n",
       "</table>\n",
       "</div>"
      ],
      "text/plain": [
       "         0         1         2         3         4         5         6   \\\n",
       "0 -0.569844  1.743090  0.169582 -1.091687 -0.464608  0.006661 -1.215717   \n",
       "1  1.754865 -0.573694 -2.304559  0.916013  0.301026 -1.377440 -0.006312   \n",
       "2 -0.569844 -0.573694 -1.191196 -1.091687 -0.943129 -1.031415  0.579935   \n",
       "3 -0.569844  1.743090  0.035566  0.916013  0.109617  0.006661  0.473128   \n",
       "4 -0.569844  1.743090  2.056114 -1.091687  1.736588  1.044737  0.810193   \n",
       "\n",
       "         7         8         9         10  \n",
       "0  0.809503  0.642595 -1.032270  1.106432  \n",
       "1 -0.921591  0.642595  0.968738 -0.748664  \n",
       "2 -0.921591  0.642595 -1.032270  1.485335  \n",
       "3 -0.921591  0.642595 -1.032270  1.276528  \n",
       "4  0.809503  0.642595  0.968738  0.558378  "
      ]
     },
     "execution_count": 22,
     "metadata": {},
     "output_type": "execute_result"
    }
   ],
   "source": [
    "pd.DataFrame(X_train).head()"
   ]
  },
  {
   "cell_type": "code",
   "execution_count": 23,
   "metadata": {
    "scrolled": true
   },
   "outputs": [
    {
     "name": "stderr",
     "output_type": "stream",
     "text": [
      "C:\\Users\\Usmon\\Anaconda3\\envs\\tensorflow-gpu\\lib\\site-packages\\h5py\\__init__.py:34: FutureWarning: Conversion of the second argument of issubdtype from `float` to `np.floating` is deprecated. In future, it will be treated as `np.float64 == np.dtype(float).type`.\n",
      "  from ._conv import register_converters as _register_converters\n",
      "Using TensorFlow backend.\n"
     ]
    }
   ],
   "source": [
    "import keras\n",
    "from keras.models import Sequential \n",
    "from keras.layers import Dense\n",
    "from keras.layers import Dropout"
   ]
  },
  {
   "cell_type": "code",
   "execution_count": 24,
   "metadata": {
    "scrolled": true
   },
   "outputs": [
    {
     "name": "stdout",
     "output_type": "stream",
     "text": [
      "_________________________________________________________________\n",
      "Layer (type)                 Output Shape              Param #   \n",
      "=================================================================\n",
      "dense_1 (Dense)              (None, 6)                 72        \n",
      "_________________________________________________________________\n",
      "dense_2 (Dense)              (None, 6)                 42        \n",
      "_________________________________________________________________\n",
      "dense_3 (Dense)              (None, 1)                 7         \n",
      "=================================================================\n",
      "Total params: 121\n",
      "Trainable params: 121\n",
      "Non-trainable params: 0\n",
      "_________________________________________________________________\n"
     ]
    }
   ],
   "source": [
    "classifier = Sequential()\n",
    "classifier.add(Dense(6, activation = 'relu', kernel_initializer='glorot_uniform', input_dim = 11))\n",
    "classifier.add(Dense(6, activation = 'relu', kernel_initializer='glorot_uniform'))\n",
    "classifier.add(Dense(1, activation = 'sigmoid', kernel_initializer='glorot_uniform'))\n",
    "classifier.compile(optimizer = 'adam', loss = 'binary_crossentropy', metrics = ['accuracy'])\n",
    "\n",
    "classifier.summary()"
   ]
  },
  {
   "cell_type": "code",
   "execution_count": 25,
   "metadata": {
    "scrolled": true
   },
   "outputs": [
    {
     "name": "stdout",
     "output_type": "stream",
     "text": [
      "Train on 8000 samples, validate on 2000 samples\n",
      "Epoch 1/100\n",
      "8000/8000 [==============================] - 3s 386us/step - loss: 0.5052 - acc: 0.7952 - val_loss: 0.4509 - val_acc: 0.7985\n",
      "Epoch 2/100\n",
      "8000/8000 [==============================] - 2s 201us/step - loss: 0.4410 - acc: 0.7994 - val_loss: 0.4384 - val_acc: 0.8010\n",
      "Epoch 3/100\n",
      "8000/8000 [==============================] - 1s 169us/step - loss: 0.4302 - acc: 0.8044 - val_loss: 0.4306 - val_acc: 0.8040\n",
      "Epoch 4/100\n",
      "8000/8000 [==============================] - 1s 170us/step - loss: 0.4214 - acc: 0.8040 - val_loss: 0.4226 - val_acc: 0.8075\n",
      "Epoch 5/100\n",
      "8000/8000 [==============================] - 1s 165us/step - loss: 0.4122 - acc: 0.8084 - val_loss: 0.4106 - val_acc: 0.8130\n",
      "Epoch 6/100\n",
      "8000/8000 [==============================] - 1s 166us/step - loss: 0.3991 - acc: 0.8199 - val_loss: 0.3939 - val_acc: 0.8290\n",
      "Epoch 7/100\n",
      "8000/8000 [==============================] - 1s 168us/step - loss: 0.3812 - acc: 0.8379 - val_loss: 0.3741 - val_acc: 0.8420\n",
      "Epoch 8/100\n",
      "8000/8000 [==============================] - 1s 168us/step - loss: 0.3659 - acc: 0.8477 - val_loss: 0.3541 - val_acc: 0.8585\n",
      "Epoch 9/100\n",
      "8000/8000 [==============================] - 1s 167us/step - loss: 0.3552 - acc: 0.8564 - val_loss: 0.3449 - val_acc: 0.8550\n",
      "Epoch 10/100\n",
      "8000/8000 [==============================] - 1s 167us/step - loss: 0.3497 - acc: 0.8570 - val_loss: 0.3389 - val_acc: 0.8585\n",
      "Epoch 11/100\n",
      "8000/8000 [==============================] - 1s 165us/step - loss: 0.3469 - acc: 0.8559 - val_loss: 0.3380 - val_acc: 0.8570\n",
      "Epoch 12/100\n",
      "8000/8000 [==============================] - 1s 158us/step - loss: 0.3452 - acc: 0.8595 - val_loss: 0.3377 - val_acc: 0.8565\n",
      "Epoch 13/100\n",
      "8000/8000 [==============================] - 1s 166us/step - loss: 0.3443 - acc: 0.8587 - val_loss: 0.3360 - val_acc: 0.8600\n",
      "Epoch 14/100\n",
      "8000/8000 [==============================] - 1s 165us/step - loss: 0.3433 - acc: 0.8597 - val_loss: 0.3341 - val_acc: 0.8605\n",
      "Epoch 15/100\n",
      "8000/8000 [==============================] - 1s 162us/step - loss: 0.3425 - acc: 0.8601 - val_loss: 0.3350 - val_acc: 0.8585\n",
      "Epoch 16/100\n",
      "8000/8000 [==============================] - 1s 163us/step - loss: 0.3420 - acc: 0.8576 - val_loss: 0.3376 - val_acc: 0.8565\n",
      "Epoch 17/100\n",
      "8000/8000 [==============================] - 1s 164us/step - loss: 0.3412 - acc: 0.8601 - val_loss: 0.3354 - val_acc: 0.8555\n",
      "Epoch 18/100\n",
      "8000/8000 [==============================] - 1s 162us/step - loss: 0.3410 - acc: 0.8590 - val_loss: 0.3373 - val_acc: 0.8555\n",
      "Epoch 19/100\n",
      "8000/8000 [==============================] - 1s 165us/step - loss: 0.3410 - acc: 0.8594 - val_loss: 0.3349 - val_acc: 0.8575\n",
      "Epoch 20/100\n",
      "8000/8000 [==============================] - 1s 164us/step - loss: 0.3401 - acc: 0.8605 - val_loss: 0.3319 - val_acc: 0.8590\n",
      "Epoch 21/100\n",
      "8000/8000 [==============================] - 1s 161us/step - loss: 0.3401 - acc: 0.8614 - val_loss: 0.3329 - val_acc: 0.8595\n",
      "Epoch 22/100\n",
      "8000/8000 [==============================] - 1s 169us/step - loss: 0.3394 - acc: 0.8605 - val_loss: 0.3328 - val_acc: 0.8565\n",
      "Epoch 23/100\n",
      "8000/8000 [==============================] - 1s 169us/step - loss: 0.3389 - acc: 0.8604 - val_loss: 0.3315 - val_acc: 0.8580\n",
      "Epoch 24/100\n",
      "8000/8000 [==============================] - 1s 168us/step - loss: 0.3388 - acc: 0.8625 - val_loss: 0.3333 - val_acc: 0.8560\n",
      "Epoch 25/100\n",
      "8000/8000 [==============================] - 1s 168us/step - loss: 0.3385 - acc: 0.8617 - val_loss: 0.3320 - val_acc: 0.8570\n",
      "Epoch 26/100\n",
      "8000/8000 [==============================] - 1s 171us/step - loss: 0.3385 - acc: 0.8632 - val_loss: 0.3315 - val_acc: 0.8590\n",
      "Epoch 27/100\n",
      "8000/8000 [==============================] - 1s 166us/step - loss: 0.3378 - acc: 0.8625 - val_loss: 0.3310 - val_acc: 0.8590\n",
      "Epoch 28/100\n",
      "8000/8000 [==============================] - 1s 171us/step - loss: 0.3380 - acc: 0.8599 - val_loss: 0.3305 - val_acc: 0.8575\n",
      "Epoch 29/100\n",
      "8000/8000 [==============================] - 1s 169us/step - loss: 0.3375 - acc: 0.8609 - val_loss: 0.3330 - val_acc: 0.8565\n",
      "Epoch 30/100\n",
      "8000/8000 [==============================] - 1s 171us/step - loss: 0.3375 - acc: 0.8635 - val_loss: 0.3304 - val_acc: 0.8600\n",
      "Epoch 31/100\n",
      "8000/8000 [==============================] - 1s 166us/step - loss: 0.3372 - acc: 0.8644 - val_loss: 0.3297 - val_acc: 0.8590\n",
      "Epoch 32/100\n",
      "8000/8000 [==============================] - 1s 169us/step - loss: 0.3364 - acc: 0.8601 - val_loss: 0.3301 - val_acc: 0.8565\n",
      "Epoch 33/100\n",
      "8000/8000 [==============================] - 1s 169us/step - loss: 0.3364 - acc: 0.8624 - val_loss: 0.3299 - val_acc: 0.8610\n",
      "Epoch 34/100\n",
      "8000/8000 [==============================] - 1s 169us/step - loss: 0.3368 - acc: 0.8622 - val_loss: 0.3297 - val_acc: 0.8630\n",
      "Epoch 35/100\n",
      "8000/8000 [==============================] - 1s 168us/step - loss: 0.3361 - acc: 0.8626 - val_loss: 0.3285 - val_acc: 0.8600\n",
      "Epoch 36/100\n",
      "8000/8000 [==============================] - 1s 167us/step - loss: 0.3354 - acc: 0.8644 - val_loss: 0.3280 - val_acc: 0.8635\n",
      "Epoch 37/100\n",
      "8000/8000 [==============================] - 1s 168us/step - loss: 0.3361 - acc: 0.8605 - val_loss: 0.3301 - val_acc: 0.8565\n",
      "Epoch 38/100\n",
      "8000/8000 [==============================] - 1s 169us/step - loss: 0.3357 - acc: 0.8614 - val_loss: 0.3339 - val_acc: 0.8550\n",
      "Epoch 39/100\n",
      "8000/8000 [==============================] - 1s 167us/step - loss: 0.3355 - acc: 0.8624 - val_loss: 0.3337 - val_acc: 0.8560\n",
      "Epoch 40/100\n",
      "8000/8000 [==============================] - 1s 165us/step - loss: 0.3356 - acc: 0.8639 - val_loss: 0.3308 - val_acc: 0.8630\n",
      "Epoch 41/100\n",
      "8000/8000 [==============================] - 1s 167us/step - loss: 0.3352 - acc: 0.8631 - val_loss: 0.3294 - val_acc: 0.8670\n",
      "Epoch 42/100\n",
      "8000/8000 [==============================] - 1s 167us/step - loss: 0.3347 - acc: 0.8627 - val_loss: 0.3302 - val_acc: 0.8610\n",
      "Epoch 43/100\n",
      "8000/8000 [==============================] - 1s 165us/step - loss: 0.3345 - acc: 0.8629 - val_loss: 0.3334 - val_acc: 0.8625\n",
      "Epoch 44/100\n",
      "8000/8000 [==============================] - 1s 166us/step - loss: 0.3341 - acc: 0.8637 - val_loss: 0.3294 - val_acc: 0.8660\n",
      "Epoch 45/100\n",
      "8000/8000 [==============================] - 1s 165us/step - loss: 0.3344 - acc: 0.8640 - val_loss: 0.3336 - val_acc: 0.8595\n",
      "Epoch 46/100\n",
      "8000/8000 [==============================] - 1s 166us/step - loss: 0.3337 - acc: 0.8626 - val_loss: 0.3352 - val_acc: 0.8595\n",
      "Epoch 47/100\n",
      "8000/8000 [==============================] - 1s 167us/step - loss: 0.3338 - acc: 0.8636 - val_loss: 0.3297 - val_acc: 0.8670\n",
      "Epoch 48/100\n",
      "8000/8000 [==============================] - 1s 166us/step - loss: 0.3339 - acc: 0.8622 - val_loss: 0.3295 - val_acc: 0.8610\n",
      "Epoch 49/100\n",
      "8000/8000 [==============================] - 1s 165us/step - loss: 0.3336 - acc: 0.8620 - val_loss: 0.3308 - val_acc: 0.8620\n",
      "Epoch 50/100\n",
      "8000/8000 [==============================] - 1s 165us/step - loss: 0.3337 - acc: 0.8626 - val_loss: 0.3327 - val_acc: 0.8660\n",
      "Epoch 51/100\n",
      "8000/8000 [==============================] - 1s 158us/step - loss: 0.3334 - acc: 0.8635 - val_loss: 0.3303 - val_acc: 0.8645\n",
      "Epoch 52/100\n",
      "8000/8000 [==============================] - 1s 165us/step - loss: 0.3337 - acc: 0.8622 - val_loss: 0.3339 - val_acc: 0.8645\n",
      "Epoch 53/100\n",
      "8000/8000 [==============================] - 1s 165us/step - loss: 0.3331 - acc: 0.8625 - val_loss: 0.3296 - val_acc: 0.8685\n",
      "Epoch 54/100\n",
      "8000/8000 [==============================] - 1s 164us/step - loss: 0.3332 - acc: 0.8622 - val_loss: 0.3298 - val_acc: 0.8650\n",
      "Epoch 55/100\n",
      "8000/8000 [==============================] - 1s 165us/step - loss: 0.3330 - acc: 0.8626 - val_loss: 0.3322 - val_acc: 0.8610\n",
      "Epoch 56/100\n",
      "8000/8000 [==============================] - 1s 166us/step - loss: 0.3328 - acc: 0.8614 - val_loss: 0.3289 - val_acc: 0.8655\n",
      "Epoch 57/100\n",
      "8000/8000 [==============================] - 1s 165us/step - loss: 0.3329 - acc: 0.8625 - val_loss: 0.3292 - val_acc: 0.8670\n",
      "Epoch 58/100\n",
      "8000/8000 [==============================] - 1s 161us/step - loss: 0.3320 - acc: 0.8614 - val_loss: 0.3304 - val_acc: 0.8670\n",
      "Epoch 59/100\n",
      "8000/8000 [==============================] - 1s 161us/step - loss: 0.3329 - acc: 0.8625 - val_loss: 0.3349 - val_acc: 0.8625\n",
      "Epoch 60/100\n"
     ]
    },
    {
     "name": "stdout",
     "output_type": "stream",
     "text": [
      "8000/8000 [==============================] - 1s 171us/step - loss: 0.3325 - acc: 0.8641 - val_loss: 0.3319 - val_acc: 0.8605\n",
      "Epoch 61/100\n",
      "8000/8000 [==============================] - 1s 165us/step - loss: 0.3323 - acc: 0.8636 - val_loss: 0.3297 - val_acc: 0.8660\n",
      "Epoch 62/100\n",
      "8000/8000 [==============================] - 1s 163us/step - loss: 0.3326 - acc: 0.8630 - val_loss: 0.3329 - val_acc: 0.8635\n",
      "Epoch 63/100\n",
      "8000/8000 [==============================] - 1s 166us/step - loss: 0.3317 - acc: 0.8635 - val_loss: 0.3314 - val_acc: 0.8625\n",
      "Epoch 64/100\n",
      "8000/8000 [==============================] - 1s 166us/step - loss: 0.3321 - acc: 0.8636 - val_loss: 0.3326 - val_acc: 0.8665\n",
      "Epoch 65/100\n",
      "8000/8000 [==============================] - 1s 167us/step - loss: 0.3326 - acc: 0.8620 - val_loss: 0.3309 - val_acc: 0.8650\n",
      "Epoch 66/100\n",
      "8000/8000 [==============================] - 1s 161us/step - loss: 0.3322 - acc: 0.8644 - val_loss: 0.3317 - val_acc: 0.8645\n",
      "Epoch 67/100\n",
      "8000/8000 [==============================] - 1s 164us/step - loss: 0.3321 - acc: 0.8624 - val_loss: 0.3295 - val_acc: 0.8625\n",
      "Epoch 68/100\n",
      "8000/8000 [==============================] - 1s 162us/step - loss: 0.3319 - acc: 0.8631 - val_loss: 0.3338 - val_acc: 0.8625\n",
      "Epoch 69/100\n",
      "8000/8000 [==============================] - 1s 165us/step - loss: 0.3322 - acc: 0.8629 - val_loss: 0.3324 - val_acc: 0.8630\n",
      "Epoch 70/100\n",
      "8000/8000 [==============================] - 1s 164us/step - loss: 0.3319 - acc: 0.8641 - val_loss: 0.3334 - val_acc: 0.8645\n",
      "Epoch 71/100\n",
      "8000/8000 [==============================] - 1s 163us/step - loss: 0.3320 - acc: 0.8644 - val_loss: 0.3344 - val_acc: 0.8625\n",
      "Epoch 72/100\n",
      "8000/8000 [==============================] - 1s 165us/step - loss: 0.3316 - acc: 0.8635 - val_loss: 0.3325 - val_acc: 0.8670\n",
      "Epoch 73/100\n",
      "8000/8000 [==============================] - 1s 161us/step - loss: 0.3320 - acc: 0.8639 - val_loss: 0.3321 - val_acc: 0.8645\n",
      "Epoch 74/100\n",
      "8000/8000 [==============================] - 1s 162us/step - loss: 0.3317 - acc: 0.8631 - val_loss: 0.3331 - val_acc: 0.8615\n",
      "Epoch 75/100\n",
      "8000/8000 [==============================] - 1s 161us/step - loss: 0.3314 - acc: 0.8630 - val_loss: 0.3341 - val_acc: 0.8605\n",
      "Epoch 76/100\n",
      "8000/8000 [==============================] - 1s 163us/step - loss: 0.3318 - acc: 0.8616 - val_loss: 0.3334 - val_acc: 0.8600\n",
      "Epoch 77/100\n",
      "8000/8000 [==============================] - 1s 160us/step - loss: 0.3316 - acc: 0.8654 - val_loss: 0.3324 - val_acc: 0.8655\n",
      "Epoch 78/100\n",
      "8000/8000 [==============================] - 1s 162us/step - loss: 0.3317 - acc: 0.8632 - val_loss: 0.3361 - val_acc: 0.8625\n",
      "Epoch 79/100\n",
      "8000/8000 [==============================] - 1s 162us/step - loss: 0.3313 - acc: 0.8641 - val_loss: 0.3347 - val_acc: 0.8615\n",
      "Epoch 80/100\n",
      "8000/8000 [==============================] - 1s 164us/step - loss: 0.3319 - acc: 0.8620 - val_loss: 0.3296 - val_acc: 0.8650\n",
      "Epoch 81/100\n",
      "8000/8000 [==============================] - 1s 161us/step - loss: 0.3314 - acc: 0.8632 - val_loss: 0.3340 - val_acc: 0.8635\n",
      "Epoch 82/100\n",
      "8000/8000 [==============================] - 1s 163us/step - loss: 0.3311 - acc: 0.8649 - val_loss: 0.3292 - val_acc: 0.8660\n",
      "Epoch 83/100\n",
      "8000/8000 [==============================] - 1s 162us/step - loss: 0.3316 - acc: 0.8637 - val_loss: 0.3327 - val_acc: 0.8660\n",
      "Epoch 84/100\n",
      "8000/8000 [==============================] - 1s 160us/step - loss: 0.3310 - acc: 0.8634 - val_loss: 0.3316 - val_acc: 0.8655\n",
      "Epoch 85/100\n",
      "8000/8000 [==============================] - 1s 159us/step - loss: 0.3312 - acc: 0.8629 - val_loss: 0.3312 - val_acc: 0.8670\n",
      "Epoch 86/100\n",
      "8000/8000 [==============================] - 1s 161us/step - loss: 0.3309 - acc: 0.8632 - val_loss: 0.3308 - val_acc: 0.8625\n",
      "Epoch 87/100\n",
      "8000/8000 [==============================] - 1s 161us/step - loss: 0.3308 - acc: 0.8636 - val_loss: 0.3308 - val_acc: 0.8640\n",
      "Epoch 88/100\n",
      "8000/8000 [==============================] - 1s 161us/step - loss: 0.3305 - acc: 0.8659 - val_loss: 0.3330 - val_acc: 0.8625\n",
      "Epoch 89/100\n",
      "8000/8000 [==============================] - 1s 161us/step - loss: 0.3313 - acc: 0.8641 - val_loss: 0.3318 - val_acc: 0.8630\n",
      "Epoch 90/100\n",
      "8000/8000 [==============================] - 1s 160us/step - loss: 0.3311 - acc: 0.8641 - val_loss: 0.3335 - val_acc: 0.8640\n",
      "Epoch 91/100\n",
      "8000/8000 [==============================] - 1s 162us/step - loss: 0.3309 - acc: 0.8641 - val_loss: 0.3358 - val_acc: 0.8635\n",
      "Epoch 92/100\n",
      "8000/8000 [==============================] - 1s 160us/step - loss: 0.3306 - acc: 0.8641 - val_loss: 0.3323 - val_acc: 0.8615\n",
      "Epoch 93/100\n",
      "8000/8000 [==============================] - 1s 159us/step - loss: 0.3307 - acc: 0.8657 - val_loss: 0.3310 - val_acc: 0.8660\n",
      "Epoch 94/100\n",
      "8000/8000 [==============================] - 1s 162us/step - loss: 0.3310 - acc: 0.8635 - val_loss: 0.3306 - val_acc: 0.8635\n",
      "Epoch 95/100\n",
      "8000/8000 [==============================] - 1s 160us/step - loss: 0.3305 - acc: 0.8637 - val_loss: 0.3310 - val_acc: 0.8675\n",
      "Epoch 96/100\n",
      "8000/8000 [==============================] - 1s 159us/step - loss: 0.3310 - acc: 0.8632 - val_loss: 0.3304 - val_acc: 0.8665\n",
      "Epoch 97/100\n",
      "8000/8000 [==============================] - 1s 154us/step - loss: 0.3302 - acc: 0.8636 - val_loss: 0.3379 - val_acc: 0.8630\n",
      "Epoch 98/100\n",
      "8000/8000 [==============================] - 1s 160us/step - loss: 0.3308 - acc: 0.8632 - val_loss: 0.3361 - val_acc: 0.8605\n",
      "Epoch 99/100\n",
      "8000/8000 [==============================] - 1s 158us/step - loss: 0.3304 - acc: 0.8645 - val_loss: 0.3325 - val_acc: 0.8665\n",
      "Epoch 100/100\n",
      "8000/8000 [==============================] - 1s 158us/step - loss: 0.3305 - acc: 0.8646 - val_loss: 0.3319 - val_acc: 0.8615\n"
     ]
    }
   ],
   "source": [
    "history = classifier.fit(X_train, y_train, batch_size = 10, epochs = 100, validation_data=(X_test, y_test))"
   ]
  },
  {
   "cell_type": "code",
   "execution_count": 26,
   "metadata": {
    "collapsed": true
   },
   "outputs": [],
   "source": [
    "y_pred = classifier.predict(X_train)"
   ]
  },
  {
   "cell_type": "code",
   "execution_count": 27,
   "metadata": {},
   "outputs": [
    {
     "data": {
      "text/plain": [
       "array([[0.03557774],\n",
       "       [0.53862816],\n",
       "       [0.09991563],\n",
       "       ...,\n",
       "       [0.06367507],\n",
       "       [0.03592912],\n",
       "       [0.78682226]], dtype=float32)"
      ]
     },
     "execution_count": 27,
     "metadata": {},
     "output_type": "execute_result"
    }
   ],
   "source": [
    "y_pred"
   ]
  },
  {
   "cell_type": "code",
   "execution_count": 28,
   "metadata": {
    "collapsed": true
   },
   "outputs": [],
   "source": [
    "y_pred = (y_pred > 0.5)"
   ]
  },
  {
   "cell_type": "code",
   "execution_count": 29,
   "metadata": {},
   "outputs": [
    {
     "data": {
      "text/plain": [
       "array([[False],\n",
       "       [ True],\n",
       "       [False],\n",
       "       ...,\n",
       "       [False],\n",
       "       [False],\n",
       "       [ True]])"
      ]
     },
     "execution_count": 29,
     "metadata": {},
     "output_type": "execute_result"
    }
   ],
   "source": [
    "y_pred"
   ]
  },
  {
   "cell_type": "code",
   "execution_count": 30,
   "metadata": {
    "collapsed": true
   },
   "outputs": [],
   "source": [
    "new_customer = sc.transform(np.array([[0.0,0,600,1,40,3,60000,2,1,1,50000]]))\n",
    "new_prediction = classifier.predict(new_customer) "
   ]
  },
  {
   "cell_type": "code",
   "execution_count": 31,
   "metadata": {},
   "outputs": [
    {
     "data": {
      "text/plain": [
       "array([[0.0350848]], dtype=float32)"
      ]
     },
     "execution_count": 31,
     "metadata": {},
     "output_type": "execute_result"
    }
   ],
   "source": [
    "new_prediction"
   ]
  },
  {
   "cell_type": "code",
   "execution_count": 32,
   "metadata": {
    "collapsed": true
   },
   "outputs": [],
   "source": [
    "new_prediction = (new_prediction > 0.5)"
   ]
  },
  {
   "cell_type": "code",
   "execution_count": 33,
   "metadata": {},
   "outputs": [
    {
     "data": {
      "text/plain": [
       "array([[False]])"
      ]
     },
     "execution_count": 33,
     "metadata": {},
     "output_type": "execute_result"
    }
   ],
   "source": [
    "new_prediction"
   ]
  },
  {
   "cell_type": "code",
   "execution_count": 34,
   "metadata": {
    "collapsed": true
   },
   "outputs": [],
   "source": [
    "# Customer 1 data \n",
    "new_customer = sc.transform(np.array([[0.0,0,540,1,50,4,10500,2,0,1,50000]]))"
   ]
  },
  {
   "cell_type": "code",
   "execution_count": 35,
   "metadata": {},
   "outputs": [
    {
     "data": {
      "text/plain": [
       "array([[False]])"
      ]
     },
     "execution_count": 35,
     "metadata": {},
     "output_type": "execute_result"
    }
   ],
   "source": [
    "# Customer 1 result\n",
    "new_prediction"
   ]
  },
  {
   "cell_type": "code",
   "execution_count": 36,
   "metadata": {
    "collapsed": true
   },
   "outputs": [],
   "source": [
    "# Customer 2 data \n",
    "new_customer = sc.transform(np.array([[0.0,2,700,0,25,8,250000,4,1,1,125000]]))"
   ]
  },
  {
   "cell_type": "code",
   "execution_count": 37,
   "metadata": {},
   "outputs": [
    {
     "data": {
      "text/plain": [
       "array([[False]])"
      ]
     },
     "execution_count": 37,
     "metadata": {},
     "output_type": "execute_result"
    }
   ],
   "source": [
    "# Customer 2 result\n",
    "new_prediction"
   ]
  },
  {
   "cell_type": "code",
   "execution_count": 38,
   "metadata": {
    "collapsed": true
   },
   "outputs": [],
   "source": [
    "# Customer 3 data\n",
    "new_customer = sc.transform(np.array([[0.0, 1, 325, 1, 60, 3, 20000, 3, 0, 0, 30000]]))"
   ]
  },
  {
   "cell_type": "code",
   "execution_count": 39,
   "metadata": {},
   "outputs": [
    {
     "data": {
      "text/plain": [
       "array([[False]])"
      ]
     },
     "execution_count": 39,
     "metadata": {},
     "output_type": "execute_result"
    }
   ],
   "source": [
    "# Customer 3 result\n",
    "new_prediction "
   ]
  },
  {
   "cell_type": "code",
   "execution_count": 40,
   "metadata": {},
   "outputs": [
    {
     "ename": "NameError",
     "evalue": "name 'confusion_matrix' is not defined",
     "output_type": "error",
     "traceback": [
      "\u001b[1;31m---------------------------------------------------------------------------\u001b[0m",
      "\u001b[1;31mNameError\u001b[0m                                 Traceback (most recent call last)",
      "\u001b[1;32m<ipython-input-40-52969d5069a5>\u001b[0m in \u001b[0;36m<module>\u001b[1;34m()\u001b[0m\n\u001b[1;32m----> 1\u001b[1;33m \u001b[0mcm\u001b[0m \u001b[1;33m=\u001b[0m \u001b[0mconfusion_matrix\u001b[0m\u001b[1;33m(\u001b[0m\u001b[0my_test\u001b[0m\u001b[1;33m,\u001b[0m \u001b[0my_pred\u001b[0m\u001b[1;33m)\u001b[0m\u001b[1;33m\u001b[0m\u001b[0m\n\u001b[0m",
      "\u001b[1;31mNameError\u001b[0m: name 'confusion_matrix' is not defined"
     ]
    }
   ],
   "source": [
    "cm = confusion_matrix(y_test, y_pred)"
   ]
  },
  {
   "cell_type": "code",
   "execution_count": 41,
   "metadata": {
    "collapsed": true
   },
   "outputs": [],
   "source": [
    "# Part 4"
   ]
  },
  {
   "cell_type": "code",
   "execution_count": 42,
   "metadata": {},
   "outputs": [
    {
     "ename": "NameError",
     "evalue": "name 'cm' is not defined",
     "output_type": "error",
     "traceback": [
      "\u001b[1;31m---------------------------------------------------------------------------\u001b[0m",
      "\u001b[1;31mNameError\u001b[0m                                 Traceback (most recent call last)",
      "\u001b[1;32m<ipython-input-42-249657145d0b>\u001b[0m in \u001b[0;36m<module>\u001b[1;34m()\u001b[0m\n\u001b[1;32m----> 1\u001b[1;33m \u001b[0moverall_accuracy\u001b[0m \u001b[1;33m=\u001b[0m \u001b[1;33m(\u001b[0m\u001b[0mcm\u001b[0m\u001b[1;33m[\u001b[0m\u001b[1;36m0\u001b[0m\u001b[1;33m,\u001b[0m\u001b[1;36m0\u001b[0m\u001b[1;33m]\u001b[0m \u001b[1;33m+\u001b[0m \u001b[0mcm\u001b[0m\u001b[1;33m[\u001b[0m\u001b[1;36m1\u001b[0m\u001b[1;33m,\u001b[0m\u001b[1;36m1\u001b[0m\u001b[1;33m]\u001b[0m\u001b[1;33m)\u001b[0m\u001b[1;33m/\u001b[0m\u001b[0mcm\u001b[0m\u001b[1;33m.\u001b[0m\u001b[0msum\u001b[0m\u001b[1;33m(\u001b[0m\u001b[1;33m)\u001b[0m\u001b[1;33m\u001b[0m\u001b[0m\n\u001b[0m",
      "\u001b[1;31mNameError\u001b[0m: name 'cm' is not defined"
     ]
    }
   ],
   "source": [
    "overall_accuracy = (cm[0,0] + cm[1,1])/cm.sum()"
   ]
  },
  {
   "cell_type": "code",
   "execution_count": 43,
   "metadata": {
    "collapsed": true
   },
   "outputs": [],
   "source": [
    "from sklearn.metrics import confusion_matrix"
   ]
  },
  {
   "cell_type": "code",
   "execution_count": 47,
   "metadata": {},
   "outputs": [
    {
     "ename": "ValueError",
     "evalue": "Found input variables with inconsistent numbers of samples: [2000, 8000]",
     "output_type": "error",
     "traceback": [
      "\u001b[1;31m---------------------------------------------------------------------------\u001b[0m",
      "\u001b[1;31mValueError\u001b[0m                                Traceback (most recent call last)",
      "\u001b[1;32m<ipython-input-47-52969d5069a5>\u001b[0m in \u001b[0;36m<module>\u001b[1;34m()\u001b[0m\n\u001b[1;32m----> 1\u001b[1;33m \u001b[0mcm\u001b[0m \u001b[1;33m=\u001b[0m \u001b[0mconfusion_matrix\u001b[0m\u001b[1;33m(\u001b[0m\u001b[0my_test\u001b[0m\u001b[1;33m,\u001b[0m \u001b[0my_pred\u001b[0m\u001b[1;33m)\u001b[0m\u001b[1;33m\u001b[0m\u001b[0m\n\u001b[0m",
      "\u001b[1;32m~\\Anaconda3\\envs\\tensorflow-gpu\\lib\\site-packages\\sklearn\\metrics\\classification.py\u001b[0m in \u001b[0;36mconfusion_matrix\u001b[1;34m(y_true, y_pred, labels, sample_weight)\u001b[0m\n\u001b[0;32m    248\u001b[0m \u001b[1;33m\u001b[0m\u001b[0m\n\u001b[0;32m    249\u001b[0m     \"\"\"\n\u001b[1;32m--> 250\u001b[1;33m     \u001b[0my_type\u001b[0m\u001b[1;33m,\u001b[0m \u001b[0my_true\u001b[0m\u001b[1;33m,\u001b[0m \u001b[0my_pred\u001b[0m \u001b[1;33m=\u001b[0m \u001b[0m_check_targets\u001b[0m\u001b[1;33m(\u001b[0m\u001b[0my_true\u001b[0m\u001b[1;33m,\u001b[0m \u001b[0my_pred\u001b[0m\u001b[1;33m)\u001b[0m\u001b[1;33m\u001b[0m\u001b[0m\n\u001b[0m\u001b[0;32m    251\u001b[0m     \u001b[1;32mif\u001b[0m \u001b[0my_type\u001b[0m \u001b[1;32mnot\u001b[0m \u001b[1;32min\u001b[0m \u001b[1;33m(\u001b[0m\u001b[1;34m\"binary\"\u001b[0m\u001b[1;33m,\u001b[0m \u001b[1;34m\"multiclass\"\u001b[0m\u001b[1;33m)\u001b[0m\u001b[1;33m:\u001b[0m\u001b[1;33m\u001b[0m\u001b[0m\n\u001b[0;32m    252\u001b[0m         \u001b[1;32mraise\u001b[0m \u001b[0mValueError\u001b[0m\u001b[1;33m(\u001b[0m\u001b[1;34m\"%s is not supported\"\u001b[0m \u001b[1;33m%\u001b[0m \u001b[0my_type\u001b[0m\u001b[1;33m)\u001b[0m\u001b[1;33m\u001b[0m\u001b[0m\n",
      "\u001b[1;32m~\\Anaconda3\\envs\\tensorflow-gpu\\lib\\site-packages\\sklearn\\metrics\\classification.py\u001b[0m in \u001b[0;36m_check_targets\u001b[1;34m(y_true, y_pred)\u001b[0m\n\u001b[0;32m     69\u001b[0m     \u001b[0my_pred\u001b[0m \u001b[1;33m:\u001b[0m \u001b[0marray\u001b[0m \u001b[1;32mor\u001b[0m \u001b[0mindicator\u001b[0m \u001b[0mmatrix\u001b[0m\u001b[1;33m\u001b[0m\u001b[0m\n\u001b[0;32m     70\u001b[0m     \"\"\"\n\u001b[1;32m---> 71\u001b[1;33m     \u001b[0mcheck_consistent_length\u001b[0m\u001b[1;33m(\u001b[0m\u001b[0my_true\u001b[0m\u001b[1;33m,\u001b[0m \u001b[0my_pred\u001b[0m\u001b[1;33m)\u001b[0m\u001b[1;33m\u001b[0m\u001b[0m\n\u001b[0m\u001b[0;32m     72\u001b[0m     \u001b[0mtype_true\u001b[0m \u001b[1;33m=\u001b[0m \u001b[0mtype_of_target\u001b[0m\u001b[1;33m(\u001b[0m\u001b[0my_true\u001b[0m\u001b[1;33m)\u001b[0m\u001b[1;33m\u001b[0m\u001b[0m\n\u001b[0;32m     73\u001b[0m     \u001b[0mtype_pred\u001b[0m \u001b[1;33m=\u001b[0m \u001b[0mtype_of_target\u001b[0m\u001b[1;33m(\u001b[0m\u001b[0my_pred\u001b[0m\u001b[1;33m)\u001b[0m\u001b[1;33m\u001b[0m\u001b[0m\n",
      "\u001b[1;32m~\\Anaconda3\\envs\\tensorflow-gpu\\lib\\site-packages\\sklearn\\utils\\validation.py\u001b[0m in \u001b[0;36mcheck_consistent_length\u001b[1;34m(*arrays)\u001b[0m\n\u001b[0;32m    171\u001b[0m     \u001b[1;32mif\u001b[0m \u001b[0mlen\u001b[0m\u001b[1;33m(\u001b[0m\u001b[0muniques\u001b[0m\u001b[1;33m)\u001b[0m \u001b[1;33m>\u001b[0m \u001b[1;36m1\u001b[0m\u001b[1;33m:\u001b[0m\u001b[1;33m\u001b[0m\u001b[0m\n\u001b[0;32m    172\u001b[0m         raise ValueError(\"Found input variables with inconsistent numbers of\"\n\u001b[1;32m--> 173\u001b[1;33m                          \" samples: %r\" % [int(l) for l in lengths])\n\u001b[0m\u001b[0;32m    174\u001b[0m \u001b[1;33m\u001b[0m\u001b[0m\n\u001b[0;32m    175\u001b[0m \u001b[1;33m\u001b[0m\u001b[0m\n",
      "\u001b[1;31mValueError\u001b[0m: Found input variables with inconsistent numbers of samples: [2000, 8000]"
     ]
    }
   ],
   "source": [
    "cm = confusion_matrix(y_test, y_pred)"
   ]
  },
  {
   "cell_type": "code",
   "execution_count": 45,
   "metadata": {},
   "outputs": [
    {
     "ename": "SyntaxError",
     "evalue": "invalid syntax (<ipython-input-45-7a040cce1a19>, line 1)",
     "output_type": "error",
     "traceback": [
      "\u001b[1;36m  File \u001b[1;32m\"<ipython-input-45-7a040cce1a19>\"\u001b[1;36m, line \u001b[1;32m1\u001b[0m\n\u001b[1;33m    overall_accuracy = (cm[0,0] + cm[1,1])/cm.sum()s\u001b[0m\n\u001b[1;37m                                                   ^\u001b[0m\n\u001b[1;31mSyntaxError\u001b[0m\u001b[1;31m:\u001b[0m invalid syntax\n"
     ]
    }
   ],
   "source": [
    "overall_accuracy = (cm[0,0] + cm[1,1])/cm.sum()s"
   ]
  },
  {
   "cell_type": "code",
   "execution_count": 48,
   "metadata": {},
   "outputs": [
    {
     "data": {
      "text/plain": [
       "(10000, 14)"
      ]
     },
     "execution_count": 48,
     "metadata": {},
     "output_type": "execute_result"
    }
   ],
   "source": [
    "dataset.shape "
   ]
  },
  {
   "cell_type": "code",
   "execution_count": null,
   "metadata": {
    "collapsed": true
   },
   "outputs": [],
   "source": []
  }
 ],
 "metadata": {
  "kernelspec": {
   "display_name": "Python 3",
   "language": "python",
   "name": "python3"
  },
  "language_info": {
   "codemirror_mode": {
    "name": "ipython",
    "version": 3
   },
   "file_extension": ".py",
   "mimetype": "text/x-python",
   "name": "python",
   "nbconvert_exporter": "python",
   "pygments_lexer": "ipython3",
   "version": "3.5.4"
  }
 },
 "nbformat": 4,
 "nbformat_minor": 2
}
